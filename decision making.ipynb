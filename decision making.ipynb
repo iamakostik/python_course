{
 "cells": [
  {
   "cell_type": "code",
   "execution_count": 16,
   "id": "07a6a12d",
   "metadata": {},
   "outputs": [],
   "source": [
    "name = 'John'\n",
    "age = 26\n",
    "height = 6"
   ]
  },
  {
   "cell_type": "code",
   "execution_count": 17,
   "id": "4f709638",
   "metadata": {},
   "outputs": [
    {
     "name": "stdout",
     "output_type": "stream",
     "text": [
      "John\n"
     ]
    }
   ],
   "source": [
    "if(name == 'John' and age <= 25 ):\n",
    "    print(f'Your name is {name}')\n",
    "elif name == 'John':\n",
    "    print(f'{name}')\n",
    "else:\n",
    "    print(f'Sorry {name}, you are not Peter')"
   ]
  },
  {
   "cell_type": "code",
   "execution_count": null,
   "id": "7774ae7c",
   "metadata": {},
   "outputs": [],
   "source": []
  }
 ],
 "metadata": {
  "kernelspec": {
   "display_name": "Python 3",
   "language": "python",
   "name": "python3"
  },
  "language_info": {
   "codemirror_mode": {
    "name": "ipython",
    "version": 3
   },
   "file_extension": ".py",
   "mimetype": "text/x-python",
   "name": "python",
   "nbconvert_exporter": "python",
   "pygments_lexer": "ipython3",
   "version": "3.8.8"
  }
 },
 "nbformat": 4,
 "nbformat_minor": 5
}
