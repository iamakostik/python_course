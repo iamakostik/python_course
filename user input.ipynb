{
 "cells": [
  {
   "cell_type": "code",
   "execution_count": 3,
   "id": "1fbf4516",
   "metadata": {},
   "outputs": [
    {
     "name": "stdout",
     "output_type": "stream",
     "text": [
      "What is your name?\n",
      "enter name: kay\n",
      "Hello, kay\n"
     ]
    }
   ],
   "source": [
    "print('What is your name?')\n",
    "\n",
    "name = input('enter name: ')\n",
    "\n",
    "print(f'Hello, {name}')"
   ]
  },
  {
   "cell_type": "code",
   "execution_count": 6,
   "id": "8aea36a8",
   "metadata": {},
   "outputs": [
    {
     "name": "stdout",
     "output_type": "stream",
     "text": [
      "Enter first number >5\n",
      "Enter second number >5\n",
      "5 + 5 = 10\n"
     ]
    }
   ],
   "source": [
    "x = int(input('Enter first number >'))\n",
    "y = int(input('Enter second number >'))\n",
    "\n",
    "print(f'{x} + {y} = {x+y}')"
   ]
  },
  {
   "cell_type": "code",
   "execution_count": 7,
   "id": "b98933da",
   "metadata": {},
   "outputs": [
    {
     "data": {
      "text/plain": [
       "int"
      ]
     },
     "execution_count": 7,
     "metadata": {},
     "output_type": "execute_result"
    }
   ],
   "source": [
    "type(x)"
   ]
  },
  {
   "cell_type": "code",
   "execution_count": null,
   "id": "e6de7a7e",
   "metadata": {},
   "outputs": [],
   "source": []
  }
 ],
 "metadata": {
  "kernelspec": {
   "display_name": "Python 3",
   "language": "python",
   "name": "python3"
  },
  "language_info": {
   "codemirror_mode": {
    "name": "ipython",
    "version": 3
   },
   "file_extension": ".py",
   "mimetype": "text/x-python",
   "name": "python",
   "nbconvert_exporter": "python",
   "pygments_lexer": "ipython3",
   "version": "3.8.8"
  }
 },
 "nbformat": 4,
 "nbformat_minor": 5
}
