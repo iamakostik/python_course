{
 "cells": [
  {
   "cell_type": "markdown",
   "id": "3267d72c",
   "metadata": {},
   "source": [
    "int\n",
    "\n",
    "float\n",
    "\n",
    "complex\n",
    "\n",
    "string\n",
    "\n",
    "list\n",
    "\n",
    "tuple\n",
    "\n",
    "dictionary\n",
    "\n",
    "set\n",
    "\n",
    "range"
   ]
  },
  {
   "cell_type": "code",
   "execution_count": 22,
   "id": "567c0a98",
   "metadata": {},
   "outputs": [],
   "source": [
    "int1 = 4"
   ]
  },
  {
   "cell_type": "code",
   "execution_count": 23,
   "id": "185bfe08",
   "metadata": {},
   "outputs": [
    {
     "data": {
      "text/plain": [
       "int"
      ]
     },
     "execution_count": 23,
     "metadata": {},
     "output_type": "execute_result"
    }
   ],
   "source": [
    "type(int1)"
   ]
  },
  {
   "cell_type": "code",
   "execution_count": 24,
   "id": "30abe653",
   "metadata": {},
   "outputs": [
    {
     "data": {
      "text/plain": [
       "float"
      ]
     },
     "execution_count": 24,
     "metadata": {},
     "output_type": "execute_result"
    }
   ],
   "source": [
    "f = 50.1\n",
    "type(f)"
   ]
  },
  {
   "cell_type": "code",
   "execution_count": 25,
   "id": "f8251145",
   "metadata": {},
   "outputs": [
    {
     "data": {
      "text/plain": [
       "complex"
      ]
     },
     "execution_count": 25,
     "metadata": {},
     "output_type": "execute_result"
    }
   ],
   "source": [
    "c = 50j\n",
    "type(c)"
   ]
  },
  {
   "cell_type": "code",
   "execution_count": 26,
   "id": "c010abe7",
   "metadata": {},
   "outputs": [
    {
     "data": {
      "text/plain": [
       "str"
      ]
     },
     "execution_count": 26,
     "metadata": {},
     "output_type": "execute_result"
    }
   ],
   "source": [
    "s = \"Hello\"\n",
    "type(s)"
   ]
  },
  {
   "cell_type": "code",
   "execution_count": 27,
   "id": "3f817e3d",
   "metadata": {},
   "outputs": [
    {
     "data": {
      "text/plain": [
       "str"
      ]
     },
     "execution_count": 27,
     "metadata": {},
     "output_type": "execute_result"
    }
   ],
   "source": [
    "s = 'Hi'\n",
    "type(s)"
   ]
  },
  {
   "cell_type": "code",
   "execution_count": 28,
   "id": "0f0df167",
   "metadata": {},
   "outputs": [
    {
     "data": {
      "text/plain": [
       "list"
      ]
     },
     "execution_count": 28,
     "metadata": {},
     "output_type": "execute_result"
    }
   ],
   "source": [
    "l = [2, 5.6, 'hello', [2,3]]\n",
    "type(l)"
   ]
  },
  {
   "cell_type": "code",
   "execution_count": 29,
   "id": "1456a787",
   "metadata": {},
   "outputs": [
    {
     "data": {
      "text/plain": [
       "list"
      ]
     },
     "execution_count": 29,
     "metadata": {},
     "output_type": "execute_result"
    }
   ],
   "source": [
    "l = [4,5,6,7,8]\n",
    "type(l)"
   ]
  },
  {
   "cell_type": "code",
   "execution_count": 30,
   "id": "73493d0c",
   "metadata": {},
   "outputs": [
    {
     "data": {
      "text/plain": [
       "tuple"
      ]
     },
     "execution_count": 30,
     "metadata": {},
     "output_type": "execute_result"
    }
   ],
   "source": [
    "t = (1,2,3,4,5)\n",
    "type(t)"
   ]
  },
  {
   "cell_type": "code",
   "execution_count": 31,
   "id": "6da712b0",
   "metadata": {},
   "outputs": [],
   "source": [
    "d = {\n",
    "    'name':'John',\n",
    "    'age': 3,\n",
    "    'country':'Spain'\n",
    "}"
   ]
  },
  {
   "cell_type": "code",
   "execution_count": 32,
   "id": "67e3774a",
   "metadata": {},
   "outputs": [
    {
     "data": {
      "text/plain": [
       "dict"
      ]
     },
     "execution_count": 32,
     "metadata": {},
     "output_type": "execute_result"
    }
   ],
   "source": [
    "type(d)"
   ]
  },
  {
   "cell_type": "code",
   "execution_count": 33,
   "id": "107ac8f2",
   "metadata": {},
   "outputs": [],
   "source": [
    "st = {'fish','lion', 'goat','cow'}"
   ]
  },
  {
   "cell_type": "code",
   "execution_count": 34,
   "id": "3771e030",
   "metadata": {},
   "outputs": [
    {
     "data": {
      "text/plain": [
       "set"
      ]
     },
     "execution_count": 34,
     "metadata": {},
     "output_type": "execute_result"
    }
   ],
   "source": [
    "type(st)"
   ]
  },
  {
   "cell_type": "code",
   "execution_count": 21,
   "id": "4ec02b35",
   "metadata": {},
   "outputs": [
    {
     "data": {
      "text/plain": [
       "range"
      ]
     },
     "execution_count": 21,
     "metadata": {},
     "output_type": "execute_result"
    }
   ],
   "source": [
    "r = range(4)\n",
    "type(r)"
   ]
  },
  {
   "cell_type": "code",
   "execution_count": null,
   "id": "45d192bd",
   "metadata": {},
   "outputs": [],
   "source": []
  }
 ],
 "metadata": {
  "kernelspec": {
   "display_name": "Python 3",
   "language": "python",
   "name": "python3"
  },
  "language_info": {
   "codemirror_mode": {
    "name": "ipython",
    "version": 3
   },
   "file_extension": ".py",
   "mimetype": "text/x-python",
   "name": "python",
   "nbconvert_exporter": "python",
   "pygments_lexer": "ipython3",
   "version": "3.8.8"
  }
 },
 "nbformat": 4,
 "nbformat_minor": 5
}
