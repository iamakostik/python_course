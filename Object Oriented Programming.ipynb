{
 "cells": [
  {
   "cell_type": "code",
   "execution_count": 29,
   "id": "43319129",
   "metadata": {},
   "outputs": [],
   "source": [
    "class Person:\n",
    "    def __init__(self, name, age):\n",
    "        self.name = name\n",
    "        self.age = age\n",
    "    def sayHello(self):\n",
    "        print(f'Hello {self.name}')"
   ]
  },
  {
   "cell_type": "code",
   "execution_count": 30,
   "id": "69a72893",
   "metadata": {},
   "outputs": [],
   "source": [
    "p1 = Person('John', 34)"
   ]
  },
  {
   "cell_type": "code",
   "execution_count": 31,
   "id": "f07ed901",
   "metadata": {},
   "outputs": [
    {
     "data": {
      "text/plain": [
       "__main__.Person"
      ]
     },
     "execution_count": 31,
     "metadata": {},
     "output_type": "execute_result"
    }
   ],
   "source": [
    "type(p1)"
   ]
  },
  {
   "cell_type": "code",
   "execution_count": 32,
   "id": "54963405",
   "metadata": {},
   "outputs": [
    {
     "data": {
      "text/plain": [
       "'John'"
      ]
     },
     "execution_count": 32,
     "metadata": {},
     "output_type": "execute_result"
    }
   ],
   "source": [
    "p1.name"
   ]
  },
  {
   "cell_type": "code",
   "execution_count": 33,
   "id": "25739ca6",
   "metadata": {},
   "outputs": [
    {
     "data": {
      "text/plain": [
       "34"
      ]
     },
     "execution_count": 33,
     "metadata": {},
     "output_type": "execute_result"
    }
   ],
   "source": [
    "p1.age"
   ]
  },
  {
   "cell_type": "code",
   "execution_count": 34,
   "id": "ed11f1ed",
   "metadata": {},
   "outputs": [],
   "source": [
    "p1.age = 50"
   ]
  },
  {
   "cell_type": "code",
   "execution_count": 38,
   "id": "c2bc44cf",
   "metadata": {},
   "outputs": [],
   "source": [
    "p1.name = \"Innocent\""
   ]
  },
  {
   "cell_type": "code",
   "execution_count": 39,
   "id": "8f144310",
   "metadata": {},
   "outputs": [
    {
     "name": "stdout",
     "output_type": "stream",
     "text": [
      "Hello Innocent\n"
     ]
    }
   ],
   "source": [
    "p1.sayHello()"
   ]
  },
  {
   "cell_type": "code",
   "execution_count": 40,
   "id": "4fdc4cad",
   "metadata": {},
   "outputs": [],
   "source": [
    "class Student(Person):\n",
    "    pass"
   ]
  },
  {
   "cell_type": "code",
   "execution_count": 41,
   "id": "b2bdd1af",
   "metadata": {},
   "outputs": [],
   "source": [
    "s1 = Student('Ali', 18)"
   ]
  },
  {
   "cell_type": "code",
   "execution_count": 42,
   "id": "20317c2d",
   "metadata": {},
   "outputs": [
    {
     "data": {
      "text/plain": [
       "'Ali'"
      ]
     },
     "execution_count": 42,
     "metadata": {},
     "output_type": "execute_result"
    }
   ],
   "source": [
    "s1.name"
   ]
  },
  {
   "cell_type": "code",
   "execution_count": 43,
   "id": "d604a5fe",
   "metadata": {},
   "outputs": [
    {
     "data": {
      "text/plain": [
       "18"
      ]
     },
     "execution_count": 43,
     "metadata": {},
     "output_type": "execute_result"
    }
   ],
   "source": [
    "s1.age"
   ]
  },
  {
   "cell_type": "code",
   "execution_count": 44,
   "id": "41108772",
   "metadata": {},
   "outputs": [
    {
     "name": "stdout",
     "output_type": "stream",
     "text": [
      "Hello Ali\n"
     ]
    }
   ],
   "source": [
    "s1.sayHello()"
   ]
  },
  {
   "cell_type": "code",
   "execution_count": null,
   "id": "3fbcb58d",
   "metadata": {},
   "outputs": [],
   "source": []
  }
 ],
 "metadata": {
  "kernelspec": {
   "display_name": "Python 3",
   "language": "python",
   "name": "python3"
  },
  "language_info": {
   "codemirror_mode": {
    "name": "ipython",
    "version": 3
   },
   "file_extension": ".py",
   "mimetype": "text/x-python",
   "name": "python",
   "nbconvert_exporter": "python",
   "pygments_lexer": "ipython3",
   "version": "3.8.8"
  }
 },
 "nbformat": 4,
 "nbformat_minor": 5
}
