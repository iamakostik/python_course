{
 "cells": [
  {
   "cell_type": "code",
   "execution_count": 2,
   "id": "a7fae854",
   "metadata": {},
   "outputs": [],
   "source": [
    "import math as m\n",
    "import datetime\n",
    "import turtle as t"
   ]
  },
  {
   "cell_type": "code",
   "execution_count": 3,
   "id": "49730bae",
   "metadata": {},
   "outputs": [
    {
     "data": {
      "text/plain": [
       "5"
      ]
     },
     "execution_count": 3,
     "metadata": {},
     "output_type": "execute_result"
    }
   ],
   "source": [
    "m.floor(5.6)"
   ]
  },
  {
   "cell_type": "code",
   "execution_count": 4,
   "id": "d6bcf594",
   "metadata": {},
   "outputs": [
    {
     "data": {
      "text/plain": [
       "6"
      ]
     },
     "execution_count": 4,
     "metadata": {},
     "output_type": "execute_result"
    }
   ],
   "source": [
    "m.ceil(5.6)"
   ]
  },
  {
   "cell_type": "code",
   "execution_count": 5,
   "id": "41c9783b",
   "metadata": {},
   "outputs": [
    {
     "data": {
      "text/plain": [
       "1.1344640137963142"
      ]
     },
     "execution_count": 5,
     "metadata": {},
     "output_type": "execute_result"
    }
   ],
   "source": [
    "m.radians(65)"
   ]
  },
  {
   "cell_type": "code",
   "execution_count": 6,
   "id": "3430d199",
   "metadata": {},
   "outputs": [],
   "source": [
    "for i in range(5):\n",
    "    t.forward(100)\n",
    "    t.right(90)"
   ]
  },
  {
   "cell_type": "code",
   "execution_count": null,
   "id": "19825799",
   "metadata": {},
   "outputs": [],
   "source": []
  }
 ],
 "metadata": {
  "kernelspec": {
   "display_name": "Python 3",
   "language": "python",
   "name": "python3"
  },
  "language_info": {
   "codemirror_mode": {
    "name": "ipython",
    "version": 3
   },
   "file_extension": ".py",
   "mimetype": "text/x-python",
   "name": "python",
   "nbconvert_exporter": "python",
   "pygments_lexer": "ipython3",
   "version": "3.8.8"
  }
 },
 "nbformat": 4,
 "nbformat_minor": 5
}
