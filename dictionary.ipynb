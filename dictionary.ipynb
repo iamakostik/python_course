{
 "cells": [
  {
   "cell_type": "code",
   "execution_count": 1,
   "id": "a28b9a78",
   "metadata": {},
   "outputs": [],
   "source": [
    "d1 = {\n",
    "    'name':'troy',\n",
    "    'country':'spain',\n",
    "    'age': 52,\n",
    "    'height':6.5\n",
    "}"
   ]
  },
  {
   "cell_type": "code",
   "execution_count": 2,
   "id": "03eb4bf1",
   "metadata": {},
   "outputs": [
    {
     "name": "stdout",
     "output_type": "stream",
     "text": [
      "troy\n"
     ]
    }
   ],
   "source": [
    "print(d1['name'])"
   ]
  },
  {
   "cell_type": "code",
   "execution_count": 6,
   "id": "4749764d",
   "metadata": {},
   "outputs": [
    {
     "name": "stdout",
     "output_type": "stream",
     "text": [
      "dict_items([('name', 'troy'), ('country', 'spain'), ('age', 52), ('height', 6.5)])\n"
     ]
    }
   ],
   "source": [
    "print(d1.items())"
   ]
  },
  {
   "cell_type": "code",
   "execution_count": 7,
   "id": "fac263b1",
   "metadata": {},
   "outputs": [
    {
     "data": {
      "text/plain": [
       "dict_keys(['name', 'country', 'age', 'height'])"
      ]
     },
     "execution_count": 7,
     "metadata": {},
     "output_type": "execute_result"
    }
   ],
   "source": [
    "d1.keys()"
   ]
  },
  {
   "cell_type": "code",
   "execution_count": 9,
   "id": "6d710a70",
   "metadata": {},
   "outputs": [],
   "source": [
    "del d1['height']"
   ]
  },
  {
   "cell_type": "code",
   "execution_count": 10,
   "id": "129ca334",
   "metadata": {},
   "outputs": [
    {
     "name": "stdout",
     "output_type": "stream",
     "text": [
      "{'name': 'troy', 'country': 'spain', 'age': 52}\n"
     ]
    }
   ],
   "source": [
    "print(d1)"
   ]
  },
  {
   "cell_type": "code",
   "execution_count": null,
   "id": "3d356bc1",
   "metadata": {},
   "outputs": [],
   "source": []
  }
 ],
 "metadata": {
  "kernelspec": {
   "display_name": "Python 3",
   "language": "python",
   "name": "python3"
  },
  "language_info": {
   "codemirror_mode": {
    "name": "ipython",
    "version": 3
   },
   "file_extension": ".py",
   "mimetype": "text/x-python",
   "name": "python",
   "nbconvert_exporter": "python",
   "pygments_lexer": "ipython3",
   "version": "3.8.8"
  }
 },
 "nbformat": 4,
 "nbformat_minor": 5
}
