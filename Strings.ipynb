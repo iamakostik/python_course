{
 "cells": [
  {
   "cell_type": "markdown",
   "id": "144cfa16",
   "metadata": {},
   "source": [
    "# Strings"
   ]
  },
  {
   "cell_type": "code",
   "execution_count": 21,
   "id": "f499455c",
   "metadata": {},
   "outputs": [],
   "source": [
    "name = \"my name's mr peter,\\ni am 30 years old.\""
   ]
  },
  {
   "cell_type": "code",
   "execution_count": 22,
   "id": "95042844",
   "metadata": {},
   "outputs": [
    {
     "name": "stdout",
     "output_type": "stream",
     "text": [
      "my name's mr peter,\n",
      "i am 30 years old.\n"
     ]
    }
   ],
   "source": [
    "print(name)"
   ]
  },
  {
   "cell_type": "code",
   "execution_count": 23,
   "id": "c83daf4f",
   "metadata": {},
   "outputs": [
    {
     "data": {
      "text/plain": [
       "38"
      ]
     },
     "execution_count": 23,
     "metadata": {},
     "output_type": "execute_result"
    }
   ],
   "source": [
    "len(name)"
   ]
  },
  {
   "cell_type": "code",
   "execution_count": 24,
   "id": "c2dd8db6",
   "metadata": {},
   "outputs": [
    {
     "data": {
      "text/plain": [
       "'me ,'"
      ]
     },
     "execution_count": 24,
     "metadata": {},
     "output_type": "execute_result"
    }
   ],
   "source": [
    "name[0:20:6]"
   ]
  },
  {
   "cell_type": "code",
   "execution_count": 26,
   "id": "7b73f394",
   "metadata": {},
   "outputs": [
    {
     "data": {
      "text/plain": [
       "True"
      ]
     },
     "execution_count": 26,
     "metadata": {},
     "output_type": "execute_result"
    }
   ],
   "source": [
    "name.islower()"
   ]
  },
  {
   "cell_type": "code",
   "execution_count": 28,
   "id": "771b7b68",
   "metadata": {},
   "outputs": [
    {
     "data": {
      "text/plain": [
       "'John Simon'"
      ]
     },
     "execution_count": 28,
     "metadata": {},
     "output_type": "execute_result"
    }
   ],
   "source": [
    "firstname = 'John'\n",
    "lastname = ' Simon'\n",
    "\n",
    "firstname + lastname"
   ]
  },
  {
   "cell_type": "code",
   "execution_count": 29,
   "id": "9fec84cf",
   "metadata": {},
   "outputs": [
    {
     "data": {
      "text/plain": [
       "'HelloHelloHelloHelloHello'"
      ]
     },
     "execution_count": 29,
     "metadata": {},
     "output_type": "execute_result"
    }
   ],
   "source": [
    "greeting = \"Hello\"\n",
    "greeting * 5"
   ]
  },
  {
   "cell_type": "code",
   "execution_count": null,
   "id": "d5e839be",
   "metadata": {},
   "outputs": [],
   "source": []
  }
 ],
 "metadata": {
  "kernelspec": {
   "display_name": "Python 3",
   "language": "python",
   "name": "python3"
  },
  "language_info": {
   "codemirror_mode": {
    "name": "ipython",
    "version": 3
   },
   "file_extension": ".py",
   "mimetype": "text/x-python",
   "name": "python",
   "nbconvert_exporter": "python",
   "pygments_lexer": "ipython3",
   "version": "3.8.8"
  }
 },
 "nbformat": 4,
 "nbformat_minor": 5
}
