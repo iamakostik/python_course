{
 "cells": [
  {
   "cell_type": "markdown",
   "id": "4cdea35e",
   "metadata": {},
   "source": [
    "# Loops"
   ]
  },
  {
   "cell_type": "code",
   "execution_count": 7,
   "id": "9e9f404a",
   "metadata": {},
   "outputs": [
    {
     "name": "stdout",
     "output_type": "stream",
     "text": [
      "1\n",
      "2\n",
      "3\n",
      "4\n",
      "5\n",
      "6\n",
      "7\n",
      "8\n",
      "9\n",
      "10\n"
     ]
    }
   ],
   "source": [
    "for i in range(1,11):\n",
    "    print(i)"
   ]
  },
  {
   "cell_type": "code",
   "execution_count": 8,
   "id": "5f52c2e0",
   "metadata": {},
   "outputs": [],
   "source": [
    "#DRY - Don't Repeat Yourself"
   ]
  },
  {
   "cell_type": "code",
   "execution_count": 9,
   "id": "7cb4fa7b",
   "metadata": {},
   "outputs": [],
   "source": [
    "l1 = ['lion','dog','hen','man']"
   ]
  },
  {
   "cell_type": "code",
   "execution_count": 15,
   "id": "aeff4c4f",
   "metadata": {},
   "outputs": [
    {
     "name": "stdout",
     "output_type": "stream",
     "text": [
      "hello\n",
      "hen\n"
     ]
    }
   ],
   "source": [
    "for animal in l1:\n",
    "    if animal == 'hen':\n",
    "        print('hello')\n",
    "        print(animal)"
   ]
  },
  {
   "cell_type": "code",
   "execution_count": 17,
   "id": "be31ab72",
   "metadata": {},
   "outputs": [
    {
     "name": "stdout",
     "output_type": "stream",
     "text": [
      "1\n",
      "2\n",
      "3\n",
      "4\n",
      "5\n",
      "6\n",
      "7\n",
      "8\n",
      "9\n",
      "10\n"
     ]
    }
   ],
   "source": [
    "n = 1\n",
    "while(n < 11):\n",
    "    print(n)\n",
    "    n += 1"
   ]
  },
  {
   "cell_type": "code",
   "execution_count": null,
   "id": "e2c36499",
   "metadata": {},
   "outputs": [],
   "source": []
  }
 ],
 "metadata": {
  "kernelspec": {
   "display_name": "Python 3",
   "language": "python",
   "name": "python3"
  },
  "language_info": {
   "codemirror_mode": {
    "name": "ipython",
    "version": 3
   },
   "file_extension": ".py",
   "mimetype": "text/x-python",
   "name": "python",
   "nbconvert_exporter": "python",
   "pygments_lexer": "ipython3",
   "version": "3.8.8"
  }
 },
 "nbformat": 4,
 "nbformat_minor": 5
}
